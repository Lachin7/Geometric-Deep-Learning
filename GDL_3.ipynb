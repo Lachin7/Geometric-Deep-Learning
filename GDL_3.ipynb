{
  "cells": [
    {
      "cell_type": "markdown",
      "metadata": {
        "id": "uNWhQZ9UqvzC"
      },
      "source": [
        "# 🎉 **Welcome to the Third Practical on Spectral Transformers**\n",
        "\n",
        "In this practical, we will explore **Transformers from a spectral perspective**. Love it or hate it, Transformers are the most important deep learning models of today. We will see how we study from a spectral perspective to gain intuition on their propagation behaviour. Hopefully it will be insightful.\n",
        "\n",
        "\n",
        "🧠 **The Central Question:**\n",
        "\n",
        "*What happens when we apply a large number of Transformer layers?*  \n",
        "\n",
        "Understanding the dynamics of this process is not only interesting from an academic perspective but very important also in practice. For instance, modern LLMs can have more than 100 layers! These kind of studies are therefore important to better understand the dynamics and stability of such a process.\n",
        "\n",
        "**What to Expect:**  \n",
        "- **🕸️ [Part 1] Spectral Graph Theory:** We will go over some basic spectral graph theory and use this to study a simplified Transformer model. We will see how this sort of spectral analysis can help us understand the attention mechansim from the point of view of how it propagates information. There will be both theory and coding.\n",
        "- **🕸️ [Part 2] Causal Mechanisms in Large Language Models** As an application, we will see how our analysis can be applied to a modified version of attention used in essentially all LLMs today.\n",
        "\n",
        "\n",
        "*Note: As this is an advanced machine learning course, some familiarity with Transformers and their underlying mechanisms is expected.*\n",
        "\n",
        "**Authors:**  \n",
        "Federico Barbero\n"
      ]
    },
    {
      "cell_type": "markdown",
      "metadata": {
        "id": "6YnWDVgiqvzD"
      },
      "source": [
        "##  🕸️ [Part 1] Spectral Graph Theory\n",
        "\n",
        "One of the main tools we'll use is **spectral graph theory (SGT)**—a field that underpins many modern technologies, from social networks to ranking algorithms like Google's PageRank. In my opinion, it is not an understatement to say that spectral graph theory is one of the most important fields of applied mathematics of the internet age.\n",
        "\n",
        "For this practical, we focus on the spectral theory of **row-stochastic matrices**. These matrices have rows that sum to 1, just like the probability distributions in **Markov chains**.\n",
        "\n",
        "🔍 **In Transformers:**  \n",
        "The attention mechanism normalizes its weights so that each row sums to 1, making it a row-stochastic matrix. By analyzing its eigenvalues and eigenvectors, we can uncover how information flows, is preserved, or even lost across layers.\n",
        "\n",
        "Let's dive in and see how these spectral insights illuminate the inner workings of attention mechanisms in deep learning! 🚀\n"
      ]
    },
    {
      "cell_type": "markdown",
      "metadata": {
        "id": "lRI-wp01qvzD"
      },
      "source": [
        "#### Predicting the future\n",
        "\n",
        "We will start by mathematically predicting certain behaviours. We will then hopefully see that our theory matches practice. For the scope of this practical, we will start by making some pretty big simplifications. This is a useful approach because it is usually much easier to study a complex by first studying a more simple construction. A more thorough approach would instead require tools from Random Matrix Theory that are outside the scope of this practical.\n",
        "\n",
        "**Notation**: Call the input features $\\mathbf{V^{(0)}}$. A (simplified) Transformer then computes $\\mathbf{V^{(\\ell)}}$ as:\n",
        "\n",
        "$$\\mathbf{V^{(\\ell + 1)} = \\mathbf{A}^{(\\ell)}\\mathbf{V}^{(\\ell)}},$$\n",
        "\n",
        "where $\\mathbf{A}^{(\\ell)}$ is the \"attention matrix\" of the $\\ell$-th layer where the entry $\\mathbf{A}^{(\\ell)}_{i,j}$ is the attention coefficient between $i$ and $j$. Just to orient ourselves, the $\\mathbf{A}$ matrices are of dimension $n \\times n$ and the $\\mathbf{V}$ matrices are of dimension $n \\times d$, with $n$ the number of elements (tokens) the Transformer is ingesting and $d$ the hidden dimension.\n",
        "\n",
        "**Note:**  In this simplified model we strip out a lot of important components such as residual connections, layer normalisations, and MLPs that make the Transformer block. We will later see how these simplifications affect our final results."
      ]
    },
    {
      "cell_type": "markdown",
      "metadata": {
        "id": "HmyXJ0AyqvzE"
      },
      "source": [
        "### [Task 1 🧠] The form of the entry $\\mathbf{A}^{(\\ell)}_{i,j}$\n",
        "\n",
        "Here are a few warmup questions to get familiar with the notation and the structure of $\\mathbf{A}$. These simple \"lemmas\" will be useful for the spectral analysis. Please assume for this question that there is **no attention mask** and that all activations (pre-softmax values) are finite and bounded.\n",
        "\n",
        "(Q1) What is the form of the entry $\\mathbf{A}^{(\\ell)}_{i,j}$? For notation, denote the query and key vectors of token $i$ as $q_i$ and $k_i$. Assume we are using the standard dot product attention and applying softmax \"row-wise\".\n",
        "\n",
        "(Q2) What does row-stochasticity mean mathematically?\n",
        "\n",
        "(Q3) Are all entries $\\mathbf{A}^{(\\ell)}_{i,j} > 0$? Why or why not? You can always assume that the temperature is $\\neq 0$ so we can ignore this detail in the practical."
      ]
    },
    {
      "cell_type": "markdown",
      "metadata": {
        "id": "BGC5WkwKqvzE"
      },
      "source": [
        "😎 Your answer here:\n",
        "\n",
        "\n",
        "Q1\n",
        "\n",
        "$\n",
        "\\mathbf{A}^{(\\ell)}_{i,j} = \\frac{\\exp\\big(q_i^{(\\ell)} \\cdot k_j^{(\\ell)}\\big)}{\\sum_{j'=1}^{n} \\exp\\big(q_i^{(\\ell)} \\cdot k_{j'}^{(\\ell)}\\big)}\n",
        "$\n",
        "\n",
        "\n",
        "---\n",
        "\n",
        "Q2\n",
        "\n",
        "\n",
        "1.  $\\mathbf{A}^{(\\ell)}_{i,j} \\ge 0$ for all $i, j$.\n",
        "2. $\n",
        "   \\sum_{j=1}^{n} \\mathbf{A}^{(\\ell)}_{i,j} = 1 \\quad \\text{for every } i.\n",
        "   $\n",
        "\n",
        "This ensures that each row of the matrix can be interpreted as a probability distribution over the tokens.\n",
        "\n",
        "--\n",
        "Q3\n",
        "Yes, under the assumptions given (i.e., no attention mask and finite, bounded pre-softmax activations), every entry in is strictly positive."
      ]
    },
    {
      "cell_type": "markdown",
      "metadata": {
        "id": "EkLf5CULqvzE"
      },
      "source": [
        "### The Spectrum of a Row-Stochastic Matrix\n",
        "\n",
        "The $\\mathbf{A}$ matrices have important structure. In fact, as we saw before they are row-stochastic and *positive*. This allows us to apply an important theorem called the **Perron-Frobenius theorem** that allows us to derive important properties of the spectrum of $\\mathbf{A}$. Your next task will be to figure out what the spectrum looks like!"
      ]
    },
    {
      "cell_type": "markdown",
      "metadata": {
        "id": "8hZK1ux6qvzE"
      },
      "source": [
        "### [Task 2 🧠] Powers of $\\mathbf{A}$\n",
        "\n",
        "This question will require some light independent research. Feel free to consult any resource you wish. The proofs we require here do not need to be very formal.\n",
        "\n",
        "**Important: We always assume that $\\mathbf{A}$  is nice enough such that it is diagonalizable.** In practice, one can still show similar results without this assumption, but this requires slightly more sophisticated mathematics such as Jordan decompositions.\n",
        "\n",
        "Let $\\mathbf{A}$ be a row-stochastic attention matrix, we now wish to find out some useful information about its spectrum. In particular, we want to know its largest eigenvalue, its largest eigenvector, and the size of the remaining eigenvalues.\n",
        "\n",
        "(Q1) Show that $\\mathbf{A}$ always has an eigenvalue $1$. What is the right\n",
        " eigenvector?\n",
        "\n",
        "**Note: In this practical we assume that the $\\mathbf{A}$s are nice enough such that the eigenvalue $1$ only occurs exactly once, i.e. it's a simple eigenvalue (this is pretty much always true anyway, modulo numerical errors)!**\n",
        "\n",
        "(Q2) Show that $\\mathbf{A}$'s largest eigenvalue is $1$. Hint: This can be shown by contradiction or immediately by the Perron-Frobenius theorem. If you are using the Perron-Frobenius theorem please state it clearly and why it applies.\n",
        "\n",
        "(Q3) Following from this basic spectral analysis in Q1 and Q2, let $\\mathbf{A}$ be a row-stochastic attention matrix and each Transformer layer update behave as:\n",
        "\n",
        "$$\\mathbf{V^{(\\ell + 1)} = \\mathbf{A} \\mathbf{V}^{(\\ell)}}$$\n",
        "\n",
        "such that each layer applies the *same* attention matrix. What happens as the number of layers goes to infinity? What subspace is the signal projected into? What does this imply?\n",
        "\n",
        "Hint: Unroll $\\mathbf{V}^{(L)}$ and look at the eigendecomposition of $\\mathbf{A}$. You can assume that $\\mathbf{A}$ is diagonalizable. We accept hand-wavy arguments, but there needs to be some mathematical reasoning.\n"
      ]
    },
    {
      "cell_type": "markdown",
      "metadata": {
        "id": "Yvdu_lPQqvzE"
      },
      "source": [
        "😎 Your answer here:\n",
        "\n",
        "Q1: $\\mathbf{A}$ is a row-stochastic matrix, each of its rows sums to 1:\n",
        "$\n",
        "\\sum_{j=1}^n \\mathbf{A}_{i,j} = 1 \\quad \\text{for all } i.\n",
        "$\n",
        "If we take the vector\n",
        "$\n",
        "\\mathbf{v} = \\begin{pmatrix} 1 \\\\ 1 \\\\ \\vdots \\\\ 1 \\end{pmatrix},\n",
        "$\n",
        "then the $i$-th entry of $\\mathbf{A}\\mathbf{v}$ is\n",
        "$\n",
        "(\\mathbf{A}\\mathbf{v})_i = \\sum_{j=1}^n \\mathbf{A}_{i,j} \\cdot 1 = 1.\n",
        "$\n",
        "Thus, we have\n",
        "$\n",
        "\\mathbf{A}\\mathbf{v} = \\mathbf{v},\n",
        "$\n",
        "\n",
        "\n",
        "---\n",
        "\n",
        "Q2\n",
        "\n",
        "There are two intuitive ways to see this:\n",
        "\n",
        "   If there existed an eigenvalue $|\\lambda| > 1$, then repeated application of $\\mathbf{A}$ would amplify any component in that eigen-direction. However, since $\\mathbf{A}$ maps any probability vector (or bounded vector) to another vector whose entries sum to one (or remain bounded), such unbounded growth is impossible. This contradiction implies that no eigenvalue can have absolute value greater than 1.\n",
        "\n",
        "\n",
        "\n",
        "---\n",
        "\n",
        "Q3\n",
        "\n",
        "If we unroll this recurrence for $L$ layers, we get:\n",
        "$\n",
        "\\mathbf{V}^{(L)} = \\mathbf{A}^L \\mathbf{V}^{(0)}.\n",
        "$\n",
        "\n",
        "Now, suppose $\\mathbf{A}$ is diagonalizable, so that we can write:\n",
        "$\n",
        "\\mathbf{A} = \\mathbf{Q}\\Lambda \\mathbf{Q}^{-1},\n",
        "$\n",
        "with $\\Lambda$ a diagonal matrix containing the eigenvalues of $\\mathbf{A}$ (including $1$).\n",
        "\n",
        "\n",
        "Raising $\\mathbf{A}$ to the $L$th power gives:  \n",
        "$$\\mathbf{A}^L = \\mathbf{Q} \\Lambda^L \\mathbf{Q}^{-1}.$$  \n",
        "Since all eigenvalues satisfy $|\\lambda| \\leq 1$ and $\\lambda = 1$ is simple, all other eigenvalues decay as $L \\to \\infty$ ($\\lambda^L \\to 0$). Thus, $\\mathbf{A}^L$ converges to a rank-one projection matrix:  \n",
        "$$\\lim_{L\\to\\infty} \\mathbf{A}^L = \\mathbf{u} \\mathbf{w}^T,$$  \n",
        "where $\\mathbf{u}$ is the (normalized) right eigenvector of $1$ (e.g., the all-ones vector) and $\\mathbf{w}$ is the corresponding left eigenvector.\n",
        "\n",
        "\n",
        "As the number of layers increases, the output converges to a uniform representation across tokens, losing token-specific information. This \"over-smoothing\" explains why deep Transformers require mechanisms like residual connections and layer normalization to retain meaningful signal propagation.\n",
        "\n",
        "\n"
      ]
    },
    {
      "cell_type": "markdown",
      "metadata": {
        "id": "W-dkiVMFqvzE"
      },
      "source": [
        "### [Task 3 🧠] Implementing the simplified Transformer model\n",
        "\n",
        "In the previous section in (Q3), we saw how the signal gets projected into an eigenspace that is poorly informative -- attention matrices are by nature contractive operations that destroy information. Because we were lazy, we had a pretty strong assumption that the *same attention layer* is applied each time. We would now like to see what happens in practice in our simplified Transformer model, where we now have different attention matrices at each layer. Of course, one can show this mathematically as well given the right conditions, but this is more technical and it is anyway nice to see this occuring in code :)"
      ]
    },
    {
      "cell_type": "code",
      "source": [
        "from typing import ValuesView\n",
        "import torch\n",
        "import torch.nn as nn\n",
        "import torch.nn.functional as F\n",
        "import matplotlib.pyplot as plt\n",
        "\n",
        "# =============================================================================\n",
        "# Task A: Create a random row-stochastic matrix using softmax with a temperature.\n",
        "# Hint: Generate random logits of shape (n, n) and then apply softmax along the rows\n",
        "# after dividing by the temperature.\n",
        "######################\n",
        "def sample_random_attention_matrix(n, temperature=0.5):\n",
        "    logits = torch.randn(n, n)\n",
        "    A = F.softmax(logits / temperature, dim=1)\n",
        "    return A\n",
        "######################\n",
        "\n",
        "# =============================================================================\n",
        "# Task B: Implement a SimpleTransformerLayer that applies a fixed attention\n",
        "# matrix A to an input vector V.\n",
        "# The update rule is: V^(l+1) = A^(l) V^(l)\n",
        "#\n",
        "# Then implement the SimpleTransformer that composes the SimpleTransformerLayers.\n",
        "######################\n",
        "class SimpleTransformerLayer(nn.Module):\n",
        "    def __init__(self, A, hidden_dim):\n",
        "        super().__init__()\n",
        "        self.A = A  # fixed, precomputed attention matrix\n",
        "        self.hidden_dim = hidden_dim\n",
        "\n",
        "    def forward(self, V):\n",
        "        # V: [n, d] ; Multiply A [n, n] with V [n, d] to get [n, d]\n",
        "        return self.A @ V\n",
        "\n",
        "class SimpleTransformer(nn.Module):\n",
        "    def __init__(self, n, num_layers, temperature, hidden_dim):\n",
        "        super().__init__()\n",
        "        # Create a list of transformer layers, each with its own random attention matrix.\n",
        "        self.layers = nn.ModuleList([\n",
        "            SimpleTransformerLayer(sample_random_attention_matrix(n, temperature), hidden_dim)\n",
        "            for _ in range(num_layers)\n",
        "        ])\n",
        "        # For inspection, store the attention matrix of the last layer.\n",
        "        self.A = self.layers[-1].A\n",
        "\n",
        "    def forward(self, V):\n",
        "        for layer in self.layers:\n",
        "            V = layer(V)\n",
        "        return V\n",
        "######################\n",
        "\n",
        "# =============================================================================\n",
        "# Task C: Compute the cosine similarity between each row of V and the top\n",
        "# eigenvector (i.e., the constant vector of ones). V has shape [n, d].\n",
        "# Return the mean cosine similarity.\n",
        "######################\n",
        "def cosine_similarity_to_top_eigenvector(V):\n",
        "    ones = torch.ones(V.shape[1], device=V.device)  # constant vector of ones (d,)\n",
        "    ones_norm = ones / ones.norm()  # normalized\n",
        "    V_norm = F.normalize(V, p=2, dim=1)  # normalize each row of V\n",
        "    cos_sim = (V_norm * ones_norm).sum(dim=1)  # cosine similarity for each token\n",
        "    return cos_sim.mean()  # average similarity over tokens\n",
        "######################\n",
        "\n",
        "def main():\n",
        "    # Parameters\n",
        "    n = 10            # Number of tokens\n",
        "    num_layers = 100  # Number of transformer layers to simulate\n",
        "    temperature = 0.1 # Temperature parameter for softmax\n",
        "    hidden_dim = 10\n",
        "\n",
        "    # Create the SimpleTransformer (each layer has its own attention matrix)\n",
        "    transformer = SimpleTransformer(n, num_layers, temperature, hidden_dim=hidden_dim)\n",
        "\n",
        "    # Create an initial random vector V of shape (n x hidden_dim)\n",
        "    V = torch.rand(n, hidden_dim)\n",
        "\n",
        "    # List to store the cosine similarity after each layer\n",
        "    cosine_sims = []\n",
        "    # Compute similarity before any layer is applied.\n",
        "    cosine_sims.append(cosine_similarity_to_top_eigenvector(V))\n",
        "\n",
        "    # Apply layers one-by-one to track convergence.\n",
        "    for layer in range(num_layers):\n",
        "        V = transformer.layers[layer](V)\n",
        "        cosine_sims.append(cosine_similarity_to_top_eigenvector(V))\n",
        "\n",
        "    # Plot convergence: cosine similarity should approach 1.\n",
        "    plt.figure(figsize=(8, 5))\n",
        "    plt.plot(range(num_layers + 1), cosine_sims, marker='o', label=\"Cosine Similarity to [1,1,...,1]\")\n",
        "    plt.xlabel(\"Layer\")\n",
        "    plt.ylabel(\"Cosine Similarity\")\n",
        "    plt.title(\"Convergence of V to the Top Eigenvector of A\")\n",
        "    plt.legend()\n",
        "    plt.grid(True)\n",
        "    plt.show()\n",
        "\n",
        "    # Print final results for inspection\n",
        "    print(\"Final vector V after {} layers:\".format(num_layers))\n",
        "    print(V.flatten())\n",
        "    print(\"\\nAttention matrix A (row-stochastic via softmax with temperature):\")\n",
        "    print(transformer.A)\n",
        "\n",
        "if __name__ == \"__main__\":\n",
        "    main()\n"
      ],
      "metadata": {
        "id": "_oaeyc8t5oLL",
        "colab": {
          "base_uri": "https://localhost:8080/",
          "height": 1000
        },
        "outputId": "02018c92-6c47-4c6d-cec1-600e3692d75e"
      },
      "execution_count": null,
      "outputs": [
        {
          "output_type": "display_data",
          "data": {
            "text/plain": [
              "<Figure size 800x500 with 1 Axes>"
            ],
            "image/png": "[encoded data removed]"
          },
          "metadata": {}
        },
        {
          "output_type": "stream",
          "name": "stdout",
          "text": [
            "Final vector V after 100 layers:\n",
            "tensor([0.4329, 0.4840, 0.5267, 0.3126, 0.2100, 0.2717, 0.4914, 0.5737, 0.5711,\n",
            "        0.3915, 0.4329, 0.4840, 0.5267, 0.3126, 0.2100, 0.2717, 0.4914, 0.5737,\n",
            "        0.5711, 0.3915, 0.4329, 0.4840, 0.5267, 0.3126, 0.2100, 0.2717, 0.4914,\n",
            "        0.5737, 0.5711, 0.3915, 0.4329, 0.4840, 0.5267, 0.3126, 0.2100, 0.2717,\n",
            "        0.4914, 0.5737, 0.5711, 0.3915, 0.4329, 0.4840, 0.5267, 0.3126, 0.2100,\n",
            "        0.2717, 0.4914, 0.5737, 0.5711, 0.3915, 0.4329, 0.4840, 0.5267, 0.3126,\n",
            "        0.2100, 0.2717, 0.4914, 0.5737, 0.5711, 0.3915, 0.4329, 0.4840, 0.5267,\n",
            "        0.3126, 0.2100, 0.2717, 0.4914, 0.5737, 0.5711, 0.3915, 0.4329, 0.4840,\n",
            "        0.5267, 0.3126, 0.2100, 0.2717, 0.4914, 0.5737, 0.5711, 0.3915, 0.4329,\n",
            "        0.4840, 0.5267, 0.3126, 0.2100, 0.2717, 0.4914, 0.5737, 0.5711, 0.3915,\n",
            "        0.4329, 0.4840, 0.5267, 0.3126, 0.2100, 0.2717, 0.4914, 0.5737, 0.5711,\n",
            "        0.3915])\n",
            "\n",
            "Attention matrix A (row-stochastic via softmax with temperature):\n",
            "tensor([[2.4923e-07, 6.4009e-09, 7.8953e-07, 9.9832e-01, 3.0661e-10, 2.5533e-07,\n",
            "         6.5183e-09, 1.7336e-09, 1.6753e-03, 3.4977e-07],\n",
            "        [8.8152e-07, 4.5882e-06, 1.4607e-10, 3.5808e-04, 2.4467e-09, 5.7829e-09,\n",
            "         9.9908e-01, 4.7640e-10, 5.2883e-12, 5.5919e-04],\n",
            "        [2.0531e-02, 3.6730e-05, 2.2253e-02, 1.1234e-07, 1.2362e-05, 9.5341e-01,\n",
            "         3.5876e-04, 1.2992e-04, 7.4731e-10, 3.2718e-03],\n",
            "        [6.2755e-02, 7.1946e-05, 5.4294e-04, 1.1075e-06, 4.1842e-14, 1.1151e-11,\n",
            "         9.3661e-01, 2.3007e-05, 6.7286e-08, 2.1551e-13],\n",
            "        [2.7365e-07, 9.9999e-01, 4.6848e-14, 5.2129e-08, 1.6901e-14, 6.9931e-13,\n",
            "         2.0777e-12, 5.1373e-06, 3.1601e-12, 1.3492e-07],\n",
            "        [3.4952e-06, 3.4009e-03, 1.7729e-07, 3.4975e-10, 9.9659e-01, 1.0224e-14,\n",
            "         5.9780e-07, 1.4874e-15, 9.9602e-07, 1.9434e-10],\n",
            "        [9.9214e-01, 7.7728e-03, 8.4713e-06, 6.7411e-05, 2.2250e-09, 1.3879e-05,\n",
            "         2.1600e-11, 6.8567e-14, 8.2822e-13, 7.3790e-08],\n",
            "        [1.0801e-13, 2.9883e-05, 8.6328e-01, 4.5909e-16, 3.8897e-09, 1.3665e-01,\n",
            "         3.3143e-13, 3.9271e-05, 1.6256e-13, 3.1224e-19],\n",
            "        [7.1969e-10, 2.4060e-09, 5.0939e-05, 2.9643e-05, 9.8600e-01, 3.6298e-06,\n",
            "         1.3596e-02, 5.0479e-08, 3.2058e-04, 5.6828e-09],\n",
            "        [2.9531e-05, 3.7245e-03, 9.9581e-01, 8.8475e-17, 1.8331e-07, 4.3330e-04,\n",
            "         2.7955e-09, 3.3283e-11, 3.5347e-14, 1.7100e-08]])\n"
          ]
        }
      ]
    },
    {
      "cell_type": "markdown",
      "source": [
        "### So why do Transformers work?\n",
        "\n",
        "In the previous questions we saw how our simplified model is in fact very problematic. It turns out that deep Transformers; however, work very well! So what is going on? This question is a very challenging one and good ideas here are likely to result (and have already resulted) in impactful research papers.\n",
        "\n",
        "In general, Transformer blocks have many more components. They have residual and different kinds of normalisations for example. On top of this, they have MLPs and Positional Encodings. Quite the soup! 🍲"
      ],
      "metadata": {
        "id": "s7Rmd-jO62jr"
      }
    },
    {
      "cell_type": "markdown",
      "source": [
        "### [Task 4 🧠] Making our Simple Transformer model not as simple\n",
        "\n",
        "Let's change the Transformer layer by adding layer norm and a residual connection, so that it looks like:\n",
        "\n",
        "$$\\mathbf{V}^{(\\ell + 1)} = \\text{LayerNorm}\\left(\\mathbf{A}^{(\\ell)}\\mathbf{V}^{(\\ell)} + \\mathbf{V}^{(\\ell)}\\right) = \\text{LayerNorm}\\left(\\left(\\mathbf{A}^{(\\ell)} + \\mathbf{I} \\right)\\mathbf{V}^{(\\ell)} \\right).$$\n",
        "\n",
        "What do you expect to happen now with the convergence plots?"
      ],
      "metadata": {
        "id": "bSuXP_qIoruy"
      }
    },
    {
      "cell_type": "code",
      "source": [
        "def main():\n",
        "    # Parameters\n",
        "    n = 10            # Number of tokens\n",
        "    num_layers = 100  # Number of transformer layers to simulate\n",
        "    temperature = 0.1 # Temperature parameter for softmax\n",
        "    hidden_dim = 10\n",
        "\n",
        "    plt.figure(figsize=(8, 5))\n",
        "\n",
        "    for model_type in [\"Simple\", \"W/ Residuals and Norm\"]:\n",
        "        if model_type == \"Simple\":\n",
        "            transformer = SimpleTransformer(n, num_layers, temperature, hidden_dim=hidden_dim)\n",
        "        else:\n",
        "            transformer = LessSimpleTransformer(n, num_layers, temperature, hidden_dim=hidden_dim)\n",
        "\n",
        "        # Create an initial random vector V of shape (n x hidden_dim)\n",
        "        V = torch.rand(n, hidden_dim)\n",
        "\n",
        "        # List to store the cosine similarity after each layer\n",
        "        cosine_sims = []\n",
        "        cosine_sims.append(cosine_similarity_to_top_eigenvector(V).detach().cpu().numpy())\n",
        "\n",
        "        # Apply one layer at a time to track convergence.\n",
        "        for layer in range(num_layers):\n",
        "            V = transformer.layers[layer](V)\n",
        "            cosine_sims.append(cosine_similarity_to_top_eigenvector(V).detach().cpu().numpy())\n",
        "\n",
        "        # Plot convergence: cosine similarity should approach 1.\n",
        "        plt.plot(range(num_layers + 1), cosine_sims, marker='o', label=model_type)\n",
        "\n",
        "    plt.xlabel(\"Layer\")\n",
        "    plt.ylabel(\"Cosine Similarity\")\n",
        "    plt.title(\"Convergence of V to the Top Eigenvector of A\")\n",
        "    plt.legend()\n",
        "    plt.grid(True)\n",
        "    plt.show()\n",
        "\n",
        "    # Print final results for inspection (detach before converting to numpy)\n",
        "    print(\"Final vector V after {} layers:\".format(num_layers))\n",
        "    print(V.flatten().detach().cpu().numpy())\n",
        "    print(\"\\nAttention matrix A (row-stochastic via softmax with temperature):\")\n",
        "    print(transformer.A.detach().cpu().numpy())\n",
        "\n",
        "if __name__ == \"__main__\":\n",
        "    main()\n"
      ],
      "metadata": {
        "id": "TCxAV6uip1wN",
        "colab": {
          "base_uri": "https://localhost:8080/",
          "height": 1000
        },
        "outputId": "aca57472-b315-4cf1-f650-a02eeab4e0f9"
      },
      "execution_count": null,
      "outputs": [
        {
          "output_type": "display_data",
          "data": {
            "text/plain": [
              "<Figure size 800x500 with 1 Axes>"
            ],
            "image/png": "[encoded data removed]"
          },
          "metadata": {}
        },
        {
          "output_type": "stream",
          "name": "stdout",
          "text": [
            "Final vector V after 100 layers:\n",
            "[ 0.09607042  0.75516355  0.4378149  -0.43343985 -0.48496932  1.130388\n",
            " -1.7433572  -0.93603027  1.7971195  -0.61875963  0.09607043  0.7551635\n",
            "  0.4378149  -0.43343982 -0.48496926  1.130388   -1.7433572  -0.9360302\n",
            "  1.7971194  -0.61875963  0.09607042  0.75516355  0.4378149  -0.43343988\n",
            " -0.48496935  1.130388   -1.7433572  -0.93603027  1.7971195  -0.61875963\n",
            "  0.09607042  0.75516355  0.4378149  -0.43343985 -0.48496932  1.130388\n",
            " -1.7433572  -0.9360302   1.7971196  -0.61875975  0.09607042  0.75516355\n",
            "  0.4378149  -0.43343985 -0.4849693   1.130388   -1.7433572  -0.93603027\n",
            "  1.7971196  -0.61875975  0.09607043  0.75516355  0.4378149  -0.43343988\n",
            " -0.48496932  1.130388   -1.7433572  -0.93603027  1.7971196  -0.61875975\n",
            "  0.09607045  0.75516355  0.4378149  -0.43343982 -0.48496926  1.130388\n",
            " -1.7433573  -0.9360302   1.7971194  -0.6187597   0.09607043  0.75516355\n",
            "  0.4378149  -0.43343985 -0.48496932  1.130388   -1.7433572  -0.93603027\n",
            "  1.7971196  -0.61875975  0.09607043  0.75516355  0.4378149  -0.43343985\n",
            " -0.4849693   1.130388   -1.7433572  -0.9360302   1.7971195  -0.61875963\n",
            "  0.09607039  0.7551635   0.43781486 -0.43343988 -0.48496935  1.130388\n",
            " -1.7433571  -0.93603027  1.7971195  -0.6187598 ]\n",
            "\n",
            "Attention matrix A (row-stochastic via softmax with temperature):\n",
            "[[8.21419619e-03 2.58403277e-04 9.89379466e-01 6.14757664e-06\n",
            "  1.82099454e-03 3.11289215e-04 2.26307520e-06 7.13925465e-06\n",
            "  3.58156549e-09 1.28448633e-07]\n",
            " [9.99946237e-01 1.13834281e-11 7.08351536e-07 2.40995787e-12\n",
            "  4.73860595e-09 2.57070054e-09 8.47389629e-07 1.29913005e-05\n",
            "  5.93900313e-06 3.32591553e-05]\n",
            " [1.52526994e-07 3.41398227e-05 9.17634606e-01 4.29340508e-10\n",
            "  1.49675898e-05 2.14753887e-12 9.54028678e-09 4.65004541e-06\n",
            "  2.31055672e-08 8.23115185e-02]\n",
            " [6.23918766e-07 5.33168804e-06 7.75669286e-12 5.65429759e-10\n",
            "  2.17490410e-07 9.99959111e-01 2.04013104e-05 1.43293046e-05\n",
            "  1.22722027e-10 7.17170144e-16]\n",
            " [1.47235127e-07 9.68544064e-11 5.03062566e-12 3.25227963e-13\n",
            "  2.86126044e-04 8.64077709e-04 1.58273373e-02 6.12657785e-01\n",
            "  3.70364517e-01 1.87874676e-08]\n",
            " [3.43638726e-14 1.15902875e-15 1.17474985e-09 4.12544701e-08\n",
            "  6.24495726e-07 3.97236910e-09 1.77948652e-13 2.06747740e-15\n",
            "  9.99999404e-01 1.80607238e-13]\n",
            " [8.19164336e-01 1.14529856e-01 8.56455600e-08 2.02123169e-03\n",
            "  1.36833791e-11 6.20956719e-02 6.49752607e-08 1.13002325e-11\n",
            "  1.05405948e-03 1.13467581e-03]\n",
            " [2.76021287e-03 6.96929646e-06 1.28716557e-08 3.36841549e-06\n",
            "  9.97182488e-01 1.83119383e-12 1.97784411e-09 1.38912548e-10\n",
            "  4.51972555e-05 1.83348152e-06]\n",
            " [1.65309757e-05 9.41891875e-03 1.67521570e-11 2.67048563e-05\n",
            "  4.70217243e-09 1.56646127e-10 6.14433736e-03 5.25233745e-10\n",
            "  2.50292460e-11 9.84393418e-01]\n",
            " [8.10099721e-08 2.45935938e-10 6.33167737e-12 1.18846469e-06\n",
            "  9.99467790e-01 7.54214352e-06 1.21129828e-10 5.23314928e-04\n",
            "  2.24391963e-10 8.22984736e-10]]\n"
          ]
        }
      ]
    },
    {
      "cell_type": "markdown",
      "metadata": {
        "id": "y7Usi1eaqvzE"
      },
      "source": [
        "## 🕸️ [Part 2] Causal Mechanisms in Large Language Models"
      ]
    },
    {
      "cell_type": "markdown",
      "source": [
        "In Part 1, we studied attention mechanisms that are fully connected. In LLMs, Transformers instead use something called a *causal mask* that makes tokens only attend to tokens coming *before* in the sequence. Such Transformers are normally called Decoder-only Transformers due to historical reasons.\n",
        "\n",
        "This has recently been shown to create *positional effects*, where tokens coming sooner in the sequence are more important (Actually, we wrote about this in a recent NeurIPS paper from the research group: [Transformers need glasses!](https://arxiv.org/abs/2406.04267)). We will now try to get intuition for why this happens remaining faithful to our toy Transformer model.\n",
        "![](https://drive.google.com/uc?export=view&id=1H8rmh1Q3enFQacmi2pd24F8AjJOdS-1i)"
      ],
      "metadata": {
        "id": "24243XaAHLrE"
      }
    },
    {
      "cell_type": "markdown",
      "source": [
        "The image above provides some intuition of what is happening. Since the attention mechanism only \"attends backwards\", this introduces some bias. Intuitively, one cares about the number of paths that reach the final token. Each column here is a Transformer layer, with $\\mathbf{v}_1^{(0)}$ being the first input token and $\\mathbf{v}_5^{(0)}$ the last. Pictorially, you can see how the blue token ends up dominating the output signal as there are many \"blue paths\" because it comes sooner in the sequence."
      ],
      "metadata": {
        "id": "hFToO966wfra"
      }
    },
    {
      "cell_type": "markdown",
      "source": [
        "😎 Your answer here:"
      ],
      "metadata": {
        "id": "WOKmOV5z6QVi"
      }
    },
    {
      "cell_type": "markdown",
      "source": [
        "### [Task 5 💰] (Bonus!) Causal attention mechanisms\n",
        "\n",
        "(Q1) What extra structure does the causal mechanism impose on the matrix $\\mathbf{A}$?.\n",
        "\n",
        "(Q2) What are the eigenvalues of $\\mathbf{A}$?\n",
        "\n",
        "Note: They can be trivially found by looking at the diagonal (why?). This is related to the answer of (Q1).\n",
        "\n",
        "(Q3) What are the left and right eigenvector with eigenvalue 1 now? What is the form of this rank-one component? What does this tell you in the limit as you apply more and more layers?"
      ],
      "metadata": {
        "id": "eJO1hEIgIprH"
      }
    },
    {
      "cell_type": "markdown",
      "source": [
        "### [Task 6 🧠] Conclusion\n",
        "\n",
        "This is a chill question! Congrats on getting to the end. Just recap briefly in bullet points what you learnt in this practical about Transformers :-)"
      ],
      "metadata": {
        "id": "FU9_M8-U8QtH"
      }
    },
    {
      "cell_type": "markdown",
      "source": [
        "😎 Your answer here:"
      ],
      "metadata": {
        "id": "RDg7Ot4GwyMX"
      }
    },
    {
      "cell_type": "markdown",
      "source": [
        "Thanks a lot for your hard work! Congrats for getting to the end of the practical.\n",
        "\n",
        "![](https://upload.wikimedia.org/wikipedia/commons/e/ea/Thats_all_folks.svg)"
      ],
      "metadata": {
        "id": "LSoauv2S8bQf"
      }
    }
  ],
  "metadata": {
    "kernelspec": {
      "display_name": "Python 3",
      "language": "python",
      "name": "python3"
    },
    "language_info": {
      "codemirror_mode": {
        "name": "ipython",
        "version": 3
      },
      "file_extension": ".py",
      "mimetype": "text/x-python",
      "name": "python",
      "nbconvert_exporter": "python",
      "pygments_lexer": "ipython3",
      "version": "3.9.6"
    },
    "colab": {
      "provenance": [],
      "toc_visible": true
    }
  },
  "nbformat": 4,
  "nbformat_minor": 0
}